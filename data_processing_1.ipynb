{
 "cells": [
  {
   "cell_type": "code",
   "execution_count": null,
   "id": "85e2bfce-a8a9-404a-8b99-c35aa4f1bfe0",
   "metadata": {},
   "outputs": [],
   "source": []
  }
 ],
 "metadata": {
  "kernelspec": {
   "display_name": "",
   "name": ""
  },
  "language_info": {
   "name": ""
  }
 },
 "nbformat": 4,
 "nbformat_minor": 5
}
